{
 "cells": [
  {
   "cell_type": "markdown",
   "metadata": {},
   "source": [
    "## 介绍\n",
    "\n"
   ]
  },
  {
   "cell_type": "markdown",
   "metadata": {},
   "source": [
    "## 导入数据\n",
    "\n",
    "第一步需要引入必要的包"
   ]
  },
  {
   "cell_type": "code",
   "execution_count": 1,
   "metadata": {
    "collapsed": true
   },
   "outputs": [],
   "source": [
    "# -*- coding: utf-8 -*-\n",
    "import pandas as pd\n",
    "import numpy as np\n",
    "import matplotlib.pyplot as plt\n",
    "import re\n",
    "import seaborn as sns\n",
    "import jieba\n",
    "import math\n",
    "import os\n",
    "\n",
    "%matplotlib inline"
   ]
  },
  {
   "cell_type": "markdown",
   "metadata": {},
   "source": [
    "导入数据文件 `items.csv`, 并命名为`jobs`"
   ]
  },
  {
   "cell_type": "code",
   "execution_count": 2,
   "metadata": {
    "collapsed": true
   },
   "outputs": [],
   "source": [
    "file_path = './data'\n",
    "abs_paths = [ os.path.abspath('./data/%s'% item) for item in os.listdir(file_path) if re.compile('.+\\.csv$').match(item) ]\n",
    "data_list = [ pd.read_csv(file_name) for file_name in abs_paths]\n",
    "jobs  = pd.concat(data_list);\n",
    "jobs = jobs.drop_duplicates(subset='job_id');\n"
   ]
  },
  {
   "cell_type": "markdown",
   "metadata": {},
   "source": [
    "## 处理数据\n",
    "\n",
    "按顺序保留如下列，存入新的变量`n_jobs`中：\n",
    "\n",
    "```\n",
    "['job_id', 'job_title','comp_name','comp_size','address','salary_min','salary_max','experience','education','job_desp']\n",
    "\n",
    "```"
   ]
  },
  {
   "cell_type": "code",
   "execution_count": 3,
   "metadata": {
    "collapsed": true
   },
   "outputs": [],
   "source": [
    "n_jobs = jobs[['job_id', 'job_title','comp_name','comp_size','address','salary_min','salary_max','experience','education','job_desp']]"
   ]
  },
  {
   "cell_type": "markdown",
   "metadata": {},
   "source": [
    "接下来的数据处理：\n",
    "- 将`experience`需要的工作年限变为数值型\n",
    "- 新增一列为平均工资，从最小和最大工资计算得出\n",
    "\n",
    "讲道理，对于薪水而言，常识上有如下影响信息：\n",
    "- experience 工作经验，工作2～3年的人往往比没有经验的新人更有吸引力\n",
    "- job_desp 掌握的技能要求或者工作内容的要求越复杂，薪水越好。因为更复杂的工作内容需要有能力的人\n",
    "- comp_size 公司规模，大公司有实力开出很好的薪水以吸引更多人才\n",
    "- job title也有关系，比如机器学习科学家、机器学习专家肯定比机器学习开发工资高吧\n",
    "- address 公司的位置也有关系，比如陆家嘴位置的公司，经济实力肯定也很强，太偏的地方员工也不愿意去\n",
    "- education 学历要求，要求研究生以及以上的公司，门槛就有了，工资肯定有吸引力才行\n",
    "\n",
    "总结一下，就是个人实力（工作经验，掌握的技能、教育背景）和公司实力（公司规模、公司位置、发布职位要求）综合决定了薪水的多少。以上都是定性的常识上的猜测，具体情况如何，有没有反转的情况的发生还得结合具体数据分析。\n",
    "\n",
    "\n",
    "\n",
    "对此，有如下问题值得分析：\n",
    "\n",
    "- 分析下工作年限需要的分布\n",
    "- 分析下工作年限跟薪水之间的关系\n",
    "- 分析下工作职责描述中提到最多的技能项\n",
    "- 对于发布职位的公司，在地理上如何分布？是不是可以做一个类似于房价地图的魔都薪水地图？"
   ]
  },
  {
   "cell_type": "code",
   "execution_count": 4,
   "metadata": {},
   "outputs": [
    {
     "name": "stderr",
     "output_type": "stream",
     "text": [
      "/Users/fr4nk.yang/anaconda2/lib/python2.7/site-packages/ipykernel_launcher.py:12: SettingWithCopyWarning: \n",
      "A value is trying to be set on a copy of a slice from a DataFrame.\n",
      "Try using .loc[row_indexer,col_indexer] = value instead\n",
      "\n",
      "See the caveats in the documentation: http://pandas.pydata.org/pandas-docs/stable/indexing.html#indexing-view-versus-copy\n",
      "  if sys.path[0] == '':\n"
     ]
    }
   ],
   "source": [
    "def changeExp(x):\n",
    "    pt_s = '(\\d+)年以上经验'\n",
    "    pt = re.compile(pt_s)\n",
    "    if pt.match(x):\n",
    "        gg = pt.search(x)\n",
    "        return int(gg.group(1))\n",
    "    elif x == '经验不限':\n",
    "        return 0\n",
    "    else:\n",
    "        x = -1\n",
    "        \n",
    "n_jobs['experience'] = n_jobs['experience'].apply(changeExp);\n",
    "n_jobs = n_jobs.set_index('job_id')\n"
   ]
  },
  {
   "cell_type": "markdown",
   "metadata": {},
   "source": [
    "#### 计算平均工资"
   ]
  },
  {
   "cell_type": "code",
   "execution_count": 5,
   "metadata": {
    "collapsed": true
   },
   "outputs": [],
   "source": [
    "n_jobs['salary_avg'] = n_jobs[['salary_min', 'salary_max']].mean(axis=1)"
   ]
  },
  {
   "cell_type": "markdown",
   "metadata": {},
   "source": [
    "### 从数据本身来看\n",
    "\n",
    "使用 describe 函数，查看数据的大致情况。\n",
    "\n",
    "首先分析，数据的类型，比如是离散or连续的，数值or字符型等等。\n",
    "\n",
    "#### 数据基本情况"
   ]
  },
  {
   "cell_type": "code",
   "execution_count": 59,
   "metadata": {
    "scrolled": true
   },
   "outputs": [
    {
     "name": "stdout",
     "output_type": "stream",
     "text": [
      "<class 'pandas.core.frame.DataFrame'>\n",
      "Index: 4054 entries, https://www.liepin.com/job/1910030651.shtml to https://www.liepin.com/a/9930387.shtml\n",
      "Data columns (total 10 columns):\n",
      "job_title     4054 non-null object\n",
      "comp_name     1489 non-null object\n",
      "comp_size     454 non-null object\n",
      "address       1489 non-null object\n",
      "salary_min    3688 non-null float64\n",
      "salary_max    3688 non-null float64\n",
      "experience    4054 non-null int64\n",
      "education     4054 non-null object\n",
      "job_desp      4054 non-null object\n",
      "salary_avg    3688 non-null float64\n",
      "dtypes: float64(3), int64(1), object(6)\n",
      "memory usage: 348.4+ KB\n"
     ]
    }
   ],
   "source": [
    "n_jobs.info()"
   ]
  },
  {
   "cell_type": "markdown",
   "metadata": {},
   "source": [
    "可以得出一些初步事实：\n",
    "- 数据有 4054 条\n",
    "- 其中非猎头的职位信息有 1489 条, ~37%\n",
    "- 给出具体薪资水平有 3688 条（~91%），其余是面谈\n",
    "- 全都给出了经验要求、工作名称、学历和职责描述"
   ]
  },
  {
   "cell_type": "code",
   "execution_count": 60,
   "metadata": {
    "scrolled": false
   },
   "outputs": [
    {
     "data": {
      "text/html": [
       "<div>\n",
       "<style>\n",
       "    .dataframe thead tr:only-child th {\n",
       "        text-align: right;\n",
       "    }\n",
       "\n",
       "    .dataframe thead th {\n",
       "        text-align: left;\n",
       "    }\n",
       "\n",
       "    .dataframe tbody tr th {\n",
       "        vertical-align: top;\n",
       "    }\n",
       "</style>\n",
       "<table border=\"1\" class=\"dataframe\">\n",
       "  <thead>\n",
       "    <tr style=\"text-align: right;\">\n",
       "      <th></th>\n",
       "      <th>job_title</th>\n",
       "      <th>comp_name</th>\n",
       "      <th>comp_size</th>\n",
       "      <th>address</th>\n",
       "      <th>education</th>\n",
       "      <th>job_desp</th>\n",
       "    </tr>\n",
       "  </thead>\n",
       "  <tbody>\n",
       "    <tr>\n",
       "      <th>count</th>\n",
       "      <td>4054</td>\n",
       "      <td>1489</td>\n",
       "      <td>454</td>\n",
       "      <td>1489</td>\n",
       "      <td>4054</td>\n",
       "      <td>4054</td>\n",
       "    </tr>\n",
       "    <tr>\n",
       "      <th>unique</th>\n",
       "      <td>2419</td>\n",
       "      <td>474</td>\n",
       "      <td>8</td>\n",
       "      <td>642</td>\n",
       "      <td>7</td>\n",
       "      <td>3795</td>\n",
       "    </tr>\n",
       "    <tr>\n",
       "      <th>top</th>\n",
       "      <td>算法工程师</td>\n",
       "      <td>美团点评</td>\n",
       "      <td>公司规模：100-499人</td>\n",
       "      <td>公司地址：上海市浦东新区金科路2889号 长泰广场C座 7楼</td>\n",
       "      <td>本科及以上</td>\n",
       "      <td>职位描述：1 、负责公司产品推广、门店数据等分析和录入；2、负责区域内客户关系的维护及日常对...</td>\n",
       "    </tr>\n",
       "    <tr>\n",
       "      <th>freq</th>\n",
       "      <td>111</td>\n",
       "      <td>70</td>\n",
       "      <td>210</td>\n",
       "      <td>51</td>\n",
       "      <td>1447</td>\n",
       "      <td>8</td>\n",
       "    </tr>\n",
       "  </tbody>\n",
       "</table>\n",
       "</div>"
      ],
      "text/plain": [
       "       job_title comp_name      comp_size                         address  \\\n",
       "count       4054      1489            454                            1489   \n",
       "unique      2419       474              8                             642   \n",
       "top        算法工程师      美团点评  公司规模：100-499人  公司地址：上海市浦东新区金科路2889号 长泰广场C座 7楼   \n",
       "freq         111        70            210                              51   \n",
       "\n",
       "       education                                           job_desp  \n",
       "count       4054                                               4054  \n",
       "unique         7                                               3795  \n",
       "top        本科及以上  职位描述：1 、负责公司产品推广、门店数据等分析和录入；2、负责区域内客户关系的维护及日常对...  \n",
       "freq        1447                                                  8  "
      ]
     },
     "execution_count": 60,
     "metadata": {},
     "output_type": "execute_result"
    }
   ],
   "source": [
    "n_jobs.describe(include=['O'])"
   ]
  },
  {
   "cell_type": "markdown",
   "metadata": {},
   "source": [
    "得出一些初步结果：\n",
    "- 算法工程师，也就是说做机器学习的title在公司中大多为算法工程师\n",
    "- 发布工作最多的公司是 美团点评\n",
    "- 其中公司规模，绝大多数为100-499人\n",
    "- 对求职者学历要求，最常见的是统招本科"
   ]
  },
  {
   "cell_type": "code",
   "execution_count": 61,
   "metadata": {},
   "outputs": [
    {
     "data": {
      "text/html": [
       "<div>\n",
       "<style>\n",
       "    .dataframe thead tr:only-child th {\n",
       "        text-align: right;\n",
       "    }\n",
       "\n",
       "    .dataframe thead th {\n",
       "        text-align: left;\n",
       "    }\n",
       "\n",
       "    .dataframe tbody tr th {\n",
       "        vertical-align: top;\n",
       "    }\n",
       "</style>\n",
       "<table border=\"1\" class=\"dataframe\">\n",
       "  <thead>\n",
       "    <tr style=\"text-align: right;\">\n",
       "      <th></th>\n",
       "      <th>salary_min</th>\n",
       "      <th>salary_max</th>\n",
       "      <th>experience</th>\n",
       "      <th>salary_avg</th>\n",
       "    </tr>\n",
       "  </thead>\n",
       "  <tbody>\n",
       "    <tr>\n",
       "      <th>count</th>\n",
       "      <td>3688.000000</td>\n",
       "      <td>3688.000000</td>\n",
       "      <td>4054.000000</td>\n",
       "      <td>3688.000000</td>\n",
       "    </tr>\n",
       "    <tr>\n",
       "      <th>mean</th>\n",
       "      <td>35.423807</td>\n",
       "      <td>57.245390</td>\n",
       "      <td>3.398125</td>\n",
       "      <td>46.334599</td>\n",
       "    </tr>\n",
       "    <tr>\n",
       "      <th>std</th>\n",
       "      <td>25.638283</td>\n",
       "      <td>33.011069</td>\n",
       "      <td>1.879770</td>\n",
       "      <td>29.098551</td>\n",
       "    </tr>\n",
       "    <tr>\n",
       "      <th>min</th>\n",
       "      <td>3.000000</td>\n",
       "      <td>4.000000</td>\n",
       "      <td>0.000000</td>\n",
       "      <td>3.500000</td>\n",
       "    </tr>\n",
       "    <tr>\n",
       "      <th>25%</th>\n",
       "      <td>20.000000</td>\n",
       "      <td>36.000000</td>\n",
       "      <td>2.000000</td>\n",
       "      <td>30.000000</td>\n",
       "    </tr>\n",
       "    <tr>\n",
       "      <th>50%</th>\n",
       "      <td>30.000000</td>\n",
       "      <td>52.000000</td>\n",
       "      <td>3.000000</td>\n",
       "      <td>41.000000</td>\n",
       "    </tr>\n",
       "    <tr>\n",
       "      <th>75%</th>\n",
       "      <td>40.000000</td>\n",
       "      <td>70.000000</td>\n",
       "      <td>5.000000</td>\n",
       "      <td>55.000000</td>\n",
       "    </tr>\n",
       "    <tr>\n",
       "      <th>max</th>\n",
       "      <td>400.000000</td>\n",
       "      <td>460.000000</td>\n",
       "      <td>12.000000</td>\n",
       "      <td>430.000000</td>\n",
       "    </tr>\n",
       "  </tbody>\n",
       "</table>\n",
       "</div>"
      ],
      "text/plain": [
       "        salary_min   salary_max   experience   salary_avg\n",
       "count  3688.000000  3688.000000  4054.000000  3688.000000\n",
       "mean     35.423807    57.245390     3.398125    46.334599\n",
       "std      25.638283    33.011069     1.879770    29.098551\n",
       "min       3.000000     4.000000     0.000000     3.500000\n",
       "25%      20.000000    36.000000     2.000000    30.000000\n",
       "50%      30.000000    52.000000     3.000000    41.000000\n",
       "75%      40.000000    70.000000     5.000000    55.000000\n",
       "max     400.000000   460.000000    12.000000   430.000000"
      ]
     },
     "execution_count": 61,
     "metadata": {},
     "output_type": "execute_result"
    }
   ],
   "source": [
    "n_jobs.describe()"
   ]
  },
  {
   "cell_type": "markdown",
   "metadata": {},
   "source": [
    "得出初步结论：\n",
    "- 对机器学习、数据分析等方向的工作经验，平均要求是3.4年\n",
    "- 薪水范围，25%起薪20w, 50%起薪是30w\n",
    "- 起薪范围最大值50%在52w"
   ]
  },
  {
   "cell_type": "markdown",
   "metadata": {},
   "source": [
    "#### 分析可分类字段\n",
    "\n",
    "```python\n",
    "job_title\tcomp_name\tcomp_size\taddress\teducation\tjob_desp\n",
    "```"
   ]
  },
  {
   "cell_type": "code",
   "execution_count": 64,
   "metadata": {},
   "outputs": [
    {
     "data": {
      "text/plain": [
       "算法工程师        111\n",
       "数据分析师         76\n",
       "数据挖掘工程师       64\n",
       "产品经理          59\n",
       "产品总监          47\n",
       "数据分析          41\n",
       "运营总监          38\n",
       "数据产品经理        31\n",
       "高级数据分析师       28\n",
       "高级算法工程师       27\n",
       "数据科学家         24\n",
       "推荐算法工程师       23\n",
       "数据分析经理        23\n",
       "大数据开发工程师      22\n",
       "数据分析专家        22\n",
       "高级产品经理        20\n",
       "图像算法工程师       19\n",
       "算法专家          19\n",
       "机器学习算法工程师     17\n",
       "大数据架构师        17\n",
       "机器学习工程师       17\n",
       "资深数据分析师       17\n",
       "用户运营          16\n",
       "数据挖掘专家        16\n",
       "数据挖掘          16\n",
       "用户运营经理        14\n",
       "大数据工程师        13\n",
       "模型分析          12\n",
       "资深算法工程师       12\n",
       "运营经理          10\n",
       "Name: job_title, dtype: int64"
      ]
     },
     "execution_count": 64,
     "metadata": {},
     "output_type": "execute_result"
    }
   ],
   "source": [
    "titles = n_jobs['job_title'].value_counts();\n",
    "titles.head(30)"
   ]
  },
  {
   "cell_type": "code",
   "execution_count": 65,
   "metadata": {},
   "outputs": [
    {
     "data": {
      "text/plain": [
       "美团点评                 70\n",
       "饿了么                  47\n",
       "韩领科技                 40\n",
       "携程                   34\n",
       "阿里巴巴                 31\n",
       "小红书                  24\n",
       "中彦                   23\n",
       "上海寻梦信息技术有限公司         18\n",
       "透云物联网                16\n",
       "达而观信息科技(上海)有限公司      15\n",
       "上海宏鹿信息技术服务有限公司       15\n",
       "腾讯                   14\n",
       "上海鱼耀金融信息服务有限公司       14\n",
       "触宝科技                 14\n",
       "上海微盟                 13\n",
       "聚力传媒上海               13\n",
       "patsnap              12\n",
       "平安科技                 12\n",
       "哔哩哔哩弹幕网              11\n",
       "华院                   11\n",
       "Coupang China        11\n",
       "小黑鱼科技有限公司            10\n",
       "挚享科技(上海)有限公司关联公司     10\n",
       "上海欣兆阳信息科技有限公司        10\n",
       "我图网                  10\n",
       "上海爱熙品牌管理有限公司          9\n",
       "上海络策网络科技有限公司          9\n",
       "Baidu                 9\n",
       "帜讯信息                  9\n",
       "工业互联网创新中心(上海)有限公司     9\n",
       "Name: comp_name, dtype: int64"
      ]
     },
     "execution_count": 65,
     "metadata": {},
     "output_type": "execute_result"
    }
   ],
   "source": [
    "comp_names = n_jobs['comp_name'].value_counts();\n",
    "comp_names.head(30)"
   ]
  },
  {
   "cell_type": "code",
   "execution_count": 66,
   "metadata": {
    "scrolled": true
   },
   "outputs": [
    {
     "data": {
      "text/plain": [
       "本科及以上     1447\n",
       "统招本科      1394\n",
       "学历不限       501\n",
       "硕士及以上      419\n",
       "大专及以上      261\n",
       "博士          31\n",
       "MBA及以上       1\n",
       "Name: education, dtype: int64"
      ]
     },
     "execution_count": 66,
     "metadata": {},
     "output_type": "execute_result"
    }
   ],
   "source": [
    "n_jobs['education'].value_counts().head(30)"
   ]
  },
  {
   "cell_type": "markdown",
   "metadata": {},
   "source": [
    "#### 分析数值型字段\n",
    "```\n",
    "salary_min\tsalary_max\texperience\n",
    "```\n"
   ]
  },
  {
   "cell_type": "code",
   "execution_count": 68,
   "metadata": {},
   "outputs": [
    {
     "data": {
      "text/plain": [
       "3     1497\n",
       "5      919\n",
       "2      690\n",
       "1      321\n",
       "0      175\n",
       "8      161\n",
       "4      137\n",
       "6       67\n",
       "10      44\n",
       "7       41\n",
       "12       2\n",
       "Name: experience, dtype: int64"
      ]
     },
     "execution_count": 68,
     "metadata": {},
     "output_type": "execute_result"
    }
   ],
   "source": [
    "n_jobs['experience'].value_counts().head(30)"
   ]
  },
  {
   "cell_type": "code",
   "execution_count": 69,
   "metadata": {
    "scrolled": true
   },
   "outputs": [
    {
     "data": {
      "image/png": "[encoded data removed]",
      "text/plain": [
       "<matplotlib.figure.Figure at 0x11c630f0>"
      ]
     },
     "metadata": {},
     "output_type": "display_data"
    }
   ],
   "source": [
    "pp = sns.distplot(n_jobs['experience'], norm_hist=False, kde=False)"
   ]
  },
  {
   "cell_type": "code",
   "execution_count": 71,
   "metadata": {},
   "outputs": [
    {
     "data": {
      "text/plain": [
       "count    3688.000000\n",
       "mean       35.423807\n",
       "std        25.638283\n",
       "min         3.000000\n",
       "25%        20.000000\n",
       "50%        30.000000\n",
       "75%        40.000000\n",
       "max       400.000000\n",
       "Name: salary_min, dtype: float64"
      ]
     },
     "execution_count": 71,
     "metadata": {},
     "output_type": "execute_result"
    }
   ],
   "source": [
    "n_jobs['salary_min'].describe()"
   ]
  },
  {
   "cell_type": "code",
   "execution_count": 83,
   "metadata": {},
   "outputs": [
    {
     "data": {
      "text/plain": [
       "<matplotlib.axes._subplots.AxesSubplot at 0x13e23748>"
      ]
     },
     "execution_count": 83,
     "metadata": {},
     "output_type": "execute_result"
    },
    {
     "data": {
      "image/png": "[encoded data removed]",
      "text/plain": [
       "<matplotlib.figure.Figure at 0x13e12ac8>"
      ]
     },
     "metadata": {},
     "output_type": "display_data"
    }
   ],
   "source": [
    "salarys = n_jobs[pd.notnull(n_jobs['salary_min'])].loc[:, [\"salary_min\"]];salarys.head(5)\n",
    "sns.distplot(salarys, norm_hist=False, kde=False)"
   ]
  },
  {
   "cell_type": "code",
   "execution_count": 85,
   "metadata": {},
   "outputs": [
    {
     "data": {
      "text/plain": [
       "<matplotlib.axes._subplots.AxesSubplot at 0x13efeef0>"
      ]
     },
     "execution_count": 85,
     "metadata": {},
     "output_type": "execute_result"
    },
    {
     "data": {
      "image/png": "[encoded data removed]",
      "text/plain": [
       "<matplotlib.figure.Figure at 0x1425b780>"
      ]
     },
     "metadata": {},
     "output_type": "display_data"
    }
   ],
   "source": [
    "salary_maxs = n_jobs[pd.notnull(n_jobs['salary_avg'])].loc[:, [\"salary_avg\"]]\n",
    "sns.distplot(salary_maxs, norm_hist=False, kde=False)"
   ]
  },
  {
   "cell_type": "markdown",
   "metadata": {},
   "source": [
    "### 画图分析数据\n",
    "\n",
    "#### 工作年限的需求分布"
   ]
  },
  {
   "cell_type": "code",
   "execution_count": 67,
   "metadata": {},
   "outputs": [
    {
     "data": {
      "text/plain": [
       "Text(0,0.5,u'Count')"
      ]
     },
     "execution_count": 67,
     "metadata": {},
     "output_type": "execute_result"
    },
    {
     "data": {
      "image/png": "[encoded data removed]",
      "text/plain": [
       "<matplotlib.figure.Figure at 0x11c63390>"
      ]
     },
     "metadata": {},
     "output_type": "display_data"
    }
   ],
   "source": [
    "ax = sns.distplot(n_jobs['experience'], norm_hist=False, kde=False)\n",
    "ax.set_xlabel('Work Experience (Years)')\n",
    "ax.set_ylabel(u'Count')"
   ]
  },
  {
   "cell_type": "markdown",
   "metadata": {},
   "source": [
    "#### 公司规模跟薪水的关系"
   ]
  },
  {
   "cell_type": "code",
   "execution_count": 57,
   "metadata": {
    "collapsed": true
   },
   "outputs": [],
   "source": [
    "comp_size_salary = n_jobs[['comp_size', 'salary_min', 'salary_max']].groupby('comp_size').mean().sort_values(by=['salary_min', 'salary_max'],ascending=True)"
   ]
  },
  {
   "cell_type": "code",
   "execution_count": 59,
   "metadata": {},
   "outputs": [
    {
     "data": {
      "text/html": [
       "<div>\n",
       "<style>\n",
       "    .dataframe thead tr:only-child th {\n",
       "        text-align: right;\n",
       "    }\n",
       "\n",
       "    .dataframe thead th {\n",
       "        text-align: left;\n",
       "    }\n",
       "\n",
       "    .dataframe tbody tr th {\n",
       "        vertical-align: top;\n",
       "    }\n",
       "</style>\n",
       "<table border=\"1\" class=\"dataframe\">\n",
       "  <thead>\n",
       "    <tr style=\"text-align: right;\">\n",
       "      <th></th>\n",
       "      <th>salary_min</th>\n",
       "      <th>salary_max</th>\n",
       "    </tr>\n",
       "    <tr>\n",
       "      <th>comp_size</th>\n",
       "      <th></th>\n",
       "      <th></th>\n",
       "    </tr>\n",
       "  </thead>\n",
       "  <tbody>\n",
       "    <tr>\n",
       "      <th>公司规模：1-49人</th>\n",
       "      <td>21.300000</td>\n",
       "      <td>37.750000</td>\n",
       "    </tr>\n",
       "    <tr>\n",
       "      <th>公司规模：500-999人</th>\n",
       "      <td>22.161616</td>\n",
       "      <td>41.070707</td>\n",
       "    </tr>\n",
       "    <tr>\n",
       "      <th>公司规模：2000-5000人</th>\n",
       "      <td>22.800000</td>\n",
       "      <td>39.066667</td>\n",
       "    </tr>\n",
       "    <tr>\n",
       "      <th>公司规模：1000-2000人</th>\n",
       "      <td>23.560000</td>\n",
       "      <td>41.280000</td>\n",
       "    </tr>\n",
       "    <tr>\n",
       "      <th>公司规模：100-499人</th>\n",
       "      <td>25.364486</td>\n",
       "      <td>43.548287</td>\n",
       "    </tr>\n",
       "    <tr>\n",
       "      <th>公司规模：10000人以上</th>\n",
       "      <td>26.459677</td>\n",
       "      <td>47.830645</td>\n",
       "    </tr>\n",
       "    <tr>\n",
       "      <th>公司规模：50-99人</th>\n",
       "      <td>26.910891</td>\n",
       "      <td>44.792079</td>\n",
       "    </tr>\n",
       "    <tr>\n",
       "      <th>公司规模：5000-10000人</th>\n",
       "      <td>30.200000</td>\n",
       "      <td>50.600000</td>\n",
       "    </tr>\n",
       "  </tbody>\n",
       "</table>\n",
       "</div>"
      ],
      "text/plain": [
       "                  salary_min  salary_max\n",
       "comp_size                               \n",
       "公司规模：1-49人         21.300000   37.750000\n",
       "公司规模：500-999人      22.161616   41.070707\n",
       "公司规模：2000-5000人    22.800000   39.066667\n",
       "公司规模：1000-2000人    23.560000   41.280000\n",
       "公司规模：100-499人      25.364486   43.548287\n",
       "公司规模：10000人以上      26.459677   47.830645\n",
       "公司规模：50-99人        26.910891   44.792079\n",
       "公司规模：5000-10000人   30.200000   50.600000"
      ]
     },
     "execution_count": 59,
     "metadata": {},
     "output_type": "execute_result"
    }
   ],
   "source": [
    "comp_size_salary"
   ]
  },
  {
   "cell_type": "code",
   "execution_count": 74,
   "metadata": {},
   "outputs": [
    {
     "ename": "KeyError",
     "evalue": "'the label [True] is not in the [index]'",
     "output_type": "error",
     "traceback": [
      "\u001b[0;31m---------------------------------------------------------------------------\u001b[0m",
      "\u001b[0;31mKeyError\u001b[0m                                  Traceback (most recent call last)",
      "\u001b[0;32m<ipython-input-74-cad22e649fec>\u001b[0m in \u001b[0;36m<module>\u001b[0;34m()\u001b[0m\n\u001b[1;32m      5\u001b[0m         \u001b[0;32mreturn\u001b[0m \u001b[0mFalse\u001b[0m\u001b[0;34m\u001b[0m\u001b[0m\n\u001b[1;32m      6\u001b[0m \u001b[0;34m\u001b[0m\u001b[0m\n\u001b[0;32m----> 7\u001b[0;31m \u001b[0mss\u001b[0m \u001b[0;34m=\u001b[0m \u001b[0mn_jobs\u001b[0m\u001b[0;34m[\u001b[0m\u001b[0;34m[\u001b[0m\u001b[0;34m'comp_size'\u001b[0m\u001b[0;34m,\u001b[0m \u001b[0;34m'salary_min'\u001b[0m\u001b[0;34m,\u001b[0m \u001b[0;34m'salary_max'\u001b[0m\u001b[0;34m]\u001b[0m\u001b[0;34m]\u001b[0m\u001b[0;34m.\u001b[0m\u001b[0mloc\u001b[0m\u001b[0;34m[\u001b[0m\u001b[0;32mlambda\u001b[0m \u001b[0mdf\u001b[0m\u001b[0;34m:\u001b[0m \u001b[0mTrue\u001b[0m \u001b[0;32mif\u001b[0m \u001b[0mdf\u001b[0m\u001b[0;34m[\u001b[0m\u001b[0;34m'comp_size'\u001b[0m\u001b[0;34m]\u001b[0m \u001b[0;32mis\u001b[0m \u001b[0;32mnot\u001b[0m \u001b[0mNone\u001b[0m \u001b[0;32mand\u001b[0m \u001b[0mdf\u001b[0m\u001b[0;34m[\u001b[0m\u001b[0;34m'salary_min'\u001b[0m\u001b[0;34m]\u001b[0m \u001b[0;32mis\u001b[0m \u001b[0;32mnot\u001b[0m \u001b[0mNone\u001b[0m \u001b[0;32mand\u001b[0m \u001b[0mdf\u001b[0m\u001b[0;34m[\u001b[0m\u001b[0;34m'salary_max'\u001b[0m\u001b[0;34m]\u001b[0m \u001b[0;32mis\u001b[0m \u001b[0;32mnot\u001b[0m \u001b[0mNone\u001b[0m \u001b[0;32melse\u001b[0m \u001b[0mFalse\u001b[0m\u001b[0;34m,\u001b[0m\u001b[0;34m:\u001b[0m\u001b[0;34m]\u001b[0m\u001b[0;34m;\u001b[0m \u001b[0mss\u001b[0m\u001b[0;34m.\u001b[0m\u001b[0mhead\u001b[0m\u001b[0;34m(\u001b[0m\u001b[0;36m5\u001b[0m\u001b[0;34m)\u001b[0m\u001b[0;34m\u001b[0m\u001b[0m\n\u001b[0m\u001b[1;32m      8\u001b[0m \u001b[0;31m# gg = sns.FacetGrid(n_jobs, row=\"comp_size\")\u001b[0m\u001b[0;34m\u001b[0m\u001b[0;34m\u001b[0m\u001b[0m\n\u001b[1;32m      9\u001b[0m \u001b[0;31m# gg = gg.map(plt.hist, ['salary_min', 'salary_max'])\u001b[0m\u001b[0;34m\u001b[0m\u001b[0;34m\u001b[0m\u001b[0m\n",
      "\u001b[0;32m/Users/fr4nk.yang/anaconda2/lib/python2.7/site-packages/pandas/core/indexing.pyc\u001b[0m in \u001b[0;36m__getitem__\u001b[0;34m(self, key)\u001b[0m\n\u001b[1;32m   1323\u001b[0m             \u001b[0;32mexcept\u001b[0m \u001b[0;34m(\u001b[0m\u001b[0mKeyError\u001b[0m\u001b[0;34m,\u001b[0m \u001b[0mIndexError\u001b[0m\u001b[0;34m)\u001b[0m\u001b[0;34m:\u001b[0m\u001b[0;34m\u001b[0m\u001b[0m\n\u001b[1;32m   1324\u001b[0m                 \u001b[0;32mpass\u001b[0m\u001b[0;34m\u001b[0m\u001b[0m\n\u001b[0;32m-> 1325\u001b[0;31m             \u001b[0;32mreturn\u001b[0m \u001b[0mself\u001b[0m\u001b[0;34m.\u001b[0m\u001b[0m_getitem_tuple\u001b[0m\u001b[0;34m(\u001b[0m\u001b[0mkey\u001b[0m\u001b[0;34m)\u001b[0m\u001b[0;34m\u001b[0m\u001b[0m\n\u001b[0m\u001b[1;32m   1326\u001b[0m         \u001b[0;32melse\u001b[0m\u001b[0;34m:\u001b[0m\u001b[0;34m\u001b[0m\u001b[0m\n\u001b[1;32m   1327\u001b[0m             \u001b[0mkey\u001b[0m \u001b[0;34m=\u001b[0m \u001b[0mcom\u001b[0m\u001b[0;34m.\u001b[0m\u001b[0m_apply_if_callable\u001b[0m\u001b[0;34m(\u001b[0m\u001b[0mkey\u001b[0m\u001b[0;34m,\u001b[0m \u001b[0mself\u001b[0m\u001b[0;34m.\u001b[0m\u001b[0mobj\u001b[0m\u001b[0;34m)\u001b[0m\u001b[0;34m\u001b[0m\u001b[0m\n",
      "\u001b[0;32m/Users/fr4nk.yang/anaconda2/lib/python2.7/site-packages/pandas/core/indexing.pyc\u001b[0m in \u001b[0;36m_getitem_tuple\u001b[0;34m(self, tup)\u001b[0m\n\u001b[1;32m    834\u001b[0m     \u001b[0;32mdef\u001b[0m \u001b[0m_getitem_tuple\u001b[0m\u001b[0;34m(\u001b[0m\u001b[0mself\u001b[0m\u001b[0;34m,\u001b[0m \u001b[0mtup\u001b[0m\u001b[0;34m)\u001b[0m\u001b[0;34m:\u001b[0m\u001b[0;34m\u001b[0m\u001b[0m\n\u001b[1;32m    835\u001b[0m         \u001b[0;32mtry\u001b[0m\u001b[0;34m:\u001b[0m\u001b[0;34m\u001b[0m\u001b[0m\n\u001b[0;32m--> 836\u001b[0;31m             \u001b[0;32mreturn\u001b[0m \u001b[0mself\u001b[0m\u001b[0;34m.\u001b[0m\u001b[0m_getitem_lowerdim\u001b[0m\u001b[0;34m(\u001b[0m\u001b[0mtup\u001b[0m\u001b[0;34m)\u001b[0m\u001b[0;34m\u001b[0m\u001b[0m\n\u001b[0m\u001b[1;32m    837\u001b[0m         \u001b[0;32mexcept\u001b[0m \u001b[0mIndexingError\u001b[0m\u001b[0;34m:\u001b[0m\u001b[0;34m\u001b[0m\u001b[0m\n\u001b[1;32m    838\u001b[0m             \u001b[0;32mpass\u001b[0m\u001b[0;34m\u001b[0m\u001b[0m\n",
      "\u001b[0;32m/Users/fr4nk.yang/anaconda2/lib/python2.7/site-packages/pandas/core/indexing.pyc\u001b[0m in \u001b[0;36m_getitem_lowerdim\u001b[0;34m(self, tup)\u001b[0m\n\u001b[1;32m    965\u001b[0m         \u001b[0;32mfor\u001b[0m \u001b[0mi\u001b[0m\u001b[0;34m,\u001b[0m \u001b[0mkey\u001b[0m \u001b[0;32min\u001b[0m \u001b[0menumerate\u001b[0m\u001b[0;34m(\u001b[0m\u001b[0mtup\u001b[0m\u001b[0;34m)\u001b[0m\u001b[0;34m:\u001b[0m\u001b[0;34m\u001b[0m\u001b[0m\n\u001b[1;32m    966\u001b[0m             \u001b[0;32mif\u001b[0m \u001b[0mis_label_like\u001b[0m\u001b[0;34m(\u001b[0m\u001b[0mkey\u001b[0m\u001b[0;34m)\u001b[0m \u001b[0;32mor\u001b[0m \u001b[0misinstance\u001b[0m\u001b[0;34m(\u001b[0m\u001b[0mkey\u001b[0m\u001b[0;34m,\u001b[0m \u001b[0mtuple\u001b[0m\u001b[0;34m)\u001b[0m\u001b[0;34m:\u001b[0m\u001b[0;34m\u001b[0m\u001b[0m\n\u001b[0;32m--> 967\u001b[0;31m                 \u001b[0msection\u001b[0m \u001b[0;34m=\u001b[0m \u001b[0mself\u001b[0m\u001b[0;34m.\u001b[0m\u001b[0m_getitem_axis\u001b[0m\u001b[0;34m(\u001b[0m\u001b[0mkey\u001b[0m\u001b[0;34m,\u001b[0m \u001b[0maxis\u001b[0m\u001b[0;34m=\u001b[0m\u001b[0mi\u001b[0m\u001b[0;34m)\u001b[0m\u001b[0;34m\u001b[0m\u001b[0m\n\u001b[0m\u001b[1;32m    968\u001b[0m \u001b[0;34m\u001b[0m\u001b[0m\n\u001b[1;32m    969\u001b[0m                 \u001b[0;31m# we have yielded a scalar ?\u001b[0m\u001b[0;34m\u001b[0m\u001b[0;34m\u001b[0m\u001b[0m\n",
      "\u001b[0;32m/Users/fr4nk.yang/anaconda2/lib/python2.7/site-packages/pandas/core/indexing.pyc\u001b[0m in \u001b[0;36m_getitem_axis\u001b[0;34m(self, key, axis)\u001b[0m\n\u001b[1;32m   1549\u001b[0m \u001b[0;34m\u001b[0m\u001b[0m\n\u001b[1;32m   1550\u001b[0m         \u001b[0;31m# fall thru to straight lookup\u001b[0m\u001b[0;34m\u001b[0m\u001b[0;34m\u001b[0m\u001b[0m\n\u001b[0;32m-> 1551\u001b[0;31m         \u001b[0mself\u001b[0m\u001b[0;34m.\u001b[0m\u001b[0m_has_valid_type\u001b[0m\u001b[0;34m(\u001b[0m\u001b[0mkey\u001b[0m\u001b[0;34m,\u001b[0m \u001b[0maxis\u001b[0m\u001b[0;34m)\u001b[0m\u001b[0;34m\u001b[0m\u001b[0m\n\u001b[0m\u001b[1;32m   1552\u001b[0m         \u001b[0;32mreturn\u001b[0m \u001b[0mself\u001b[0m\u001b[0;34m.\u001b[0m\u001b[0m_get_label\u001b[0m\u001b[0;34m(\u001b[0m\u001b[0mkey\u001b[0m\u001b[0;34m,\u001b[0m \u001b[0maxis\u001b[0m\u001b[0;34m=\u001b[0m\u001b[0maxis\u001b[0m\u001b[0;34m)\u001b[0m\u001b[0;34m\u001b[0m\u001b[0m\n\u001b[1;32m   1553\u001b[0m \u001b[0;34m\u001b[0m\u001b[0m\n",
      "\u001b[0;32m/Users/fr4nk.yang/anaconda2/lib/python2.7/site-packages/pandas/core/indexing.pyc\u001b[0m in \u001b[0;36m_has_valid_type\u001b[0;34m(self, key, axis)\u001b[0m\n\u001b[1;32m   1440\u001b[0m                 \u001b[0;32mraise\u001b[0m\u001b[0;34m\u001b[0m\u001b[0m\n\u001b[1;32m   1441\u001b[0m             \u001b[0;32mexcept\u001b[0m\u001b[0;34m:\u001b[0m\u001b[0;34m\u001b[0m\u001b[0m\n\u001b[0;32m-> 1442\u001b[0;31m                 \u001b[0merror\u001b[0m\u001b[0;34m(\u001b[0m\u001b[0;34m)\u001b[0m\u001b[0;34m\u001b[0m\u001b[0m\n\u001b[0m\u001b[1;32m   1443\u001b[0m \u001b[0;34m\u001b[0m\u001b[0m\n\u001b[1;32m   1444\u001b[0m         \u001b[0;32mreturn\u001b[0m \u001b[0mTrue\u001b[0m\u001b[0;34m\u001b[0m\u001b[0m\n",
      "\u001b[0;32m/Users/fr4nk.yang/anaconda2/lib/python2.7/site-packages/pandas/core/indexing.pyc\u001b[0m in \u001b[0;36merror\u001b[0;34m()\u001b[0m\n\u001b[1;32m   1427\u001b[0m                                     \"key\")\n\u001b[1;32m   1428\u001b[0m                 raise KeyError(\"the label [%s] is not in the [%s]\" %\n\u001b[0;32m-> 1429\u001b[0;31m                                (key, self.obj._get_axis_name(axis)))\n\u001b[0m\u001b[1;32m   1430\u001b[0m \u001b[0;34m\u001b[0m\u001b[0m\n\u001b[1;32m   1431\u001b[0m             \u001b[0;32mtry\u001b[0m\u001b[0;34m:\u001b[0m\u001b[0;34m\u001b[0m\u001b[0m\n",
      "\u001b[0;31mKeyError\u001b[0m: 'the label [True] is not in the [index]'"
     ]
    }
   ],
   "source": [
    "def filter_nan(df):\n",
    "    if df['comp_size'] is not None and df['salary_min'] is not None and df['salary_max'] is not None:\n",
    "        return True\n",
    "    else:\n",
    "        return False\n",
    "    \n",
    "ss = n_jobs[['comp_size', 'salary_min', 'salary_max']].loc[filter_nan,:]; ss.head(5)\n",
    "# gg = sns.FacetGrid(n_jobs, row=\"comp_size\")\n",
    "# gg = gg.map(plt.hist, ['salary_min', 'salary_max'])"
   ]
  },
  {
   "cell_type": "markdown",
   "metadata": {
    "collapsed": true
   },
   "source": [
    "工作年限跟薪水的关系"
   ]
  },
  {
   "cell_type": "code",
   "execution_count": 33,
   "metadata": {
    "collapsed": true
   },
   "outputs": [],
   "source": [
    "salary_exp = n_jobs.groupby('experience').mean().reset_index()"
   ]
  },
  {
   "cell_type": "code",
   "execution_count": 34,
   "metadata": {
    "scrolled": true
   },
   "outputs": [
    {
     "data": {
      "image/png": "[encoded data removed]",
      "text/plain": [
       "<matplotlib.figure.Figure at 0x1a14d9e6d0>"
      ]
     },
     "metadata": {},
     "output_type": "display_data"
    }
   ],
   "source": [
    "ax = salary_exp.plot( kind='scatter',x='experience',   y='salary_min', color='b', figsize=(8,5) )\n",
    "salary_exp.plot(kind='scatter',x='experience',  y='salary_max', color='r', ax = ax)\n",
    "\n",
    "plt.show()\n"
   ]
  },
  {
   "cell_type": "code",
   "execution_count": null,
   "metadata": {
    "collapsed": true
   },
   "outputs": [],
   "source": []
  }
 ],
 "metadata": {
  "kernelspec": {
   "display_name": "Python 2",
   "language": "python",
   "name": "python2"
  },
  "language_info": {
   "codemirror_mode": {
    "name": "ipython",
    "version": 2
   },
   "file_extension": ".py",
   "mimetype": "text/x-python",
   "name": "python",
   "nbconvert_exporter": "python",
   "pygments_lexer": "ipython2",
   "version": "2.7.14"
  }
 },
 "nbformat": 4,
 "nbformat_minor": 2
}
