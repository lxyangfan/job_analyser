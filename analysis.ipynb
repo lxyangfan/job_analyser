{
 "cells": [
  {
   "cell_type": "markdown",
   "metadata": {},
   "source": [
    "## 介绍\n",
    "\n"
   ]
  },
  {
   "cell_type": "markdown",
   "metadata": {},
   "source": [
    "## 导入数据\n",
    "\n",
    "第一步需要引入必要的包"
   ]
  },
  {
   "cell_type": "code",
   "execution_count": 28,
   "metadata": {
    "collapsed": true
   },
   "outputs": [],
   "source": [
    "# -*- coding: utf-8 -*-\n",
    "import pandas as pd\n",
    "import numpy as np\n",
    "import matplotlib.pyplot as plt\n",
    "import re\n",
    "import seaborn as sns\n",
    "import jieba\n",
    "import math\n",
    "import os\n",
    "\n",
    "%matplotlib inline"
   ]
  },
  {
   "cell_type": "markdown",
   "metadata": {},
   "source": [
    "导入数据文件 `items.csv`, 并命名为`jobs`"
   ]
  },
  {
   "cell_type": "code",
   "execution_count": 6,
   "metadata": {},
   "outputs": [],
   "source": [
    "file_path = './data'\n",
    "abs_paths = [ os.path.abspath('./data/%s'% item) for item in os.listdir(file_path) if re.compile('.+\\.csv$').match(item) ]\n",
    "data_list = [ pd.read_csv(file_name) for file_name in abs_paths]\n"
   ]
  },
  {
   "cell_type": "code",
   "execution_count": 9,
   "metadata": {},
   "outputs": [
    {
     "data": {
      "text/html": [
       "<div>\n",
       "<style>\n",
       "    .dataframe thead tr:only-child th {\n",
       "        text-align: right;\n",
       "    }\n",
       "\n",
       "    .dataframe thead th {\n",
       "        text-align: left;\n",
       "    }\n",
       "\n",
       "    .dataframe tbody tr th {\n",
       "        vertical-align: top;\n",
       "    }\n",
       "</style>\n",
       "<table border=\"1\" class=\"dataframe\">\n",
       "  <thead>\n",
       "    <tr style=\"text-align: right;\">\n",
       "      <th></th>\n",
       "      <th>address</th>\n",
       "      <th>comp_detail</th>\n",
       "      <th>comp_id</th>\n",
       "      <th>comp_name</th>\n",
       "      <th>comp_size</th>\n",
       "      <th>education</th>\n",
       "      <th>experience</th>\n",
       "      <th>job_desp</th>\n",
       "      <th>job_id</th>\n",
       "      <th>job_req</th>\n",
       "      <th>job_title</th>\n",
       "      <th>salary</th>\n",
       "      <th>salary_max</th>\n",
       "      <th>salary_min</th>\n",
       "    </tr>\n",
       "  </thead>\n",
       "  <tbody>\n",
       "    <tr>\n",
       "      <th>0</th>\n",
       "      <td>公司地址：上海市长宁区金钟路968号凌空SOHO</td>\n",
       "      <td>NaN</td>\n",
       "      <td>https://www.liepin.com/company/182339/</td>\n",
       "      <td>携程</td>\n",
       "      <td>NaN</td>\n",
       "      <td>本科及以上</td>\n",
       "      <td>3年以上经验</td>\n",
       "      <td>职责描述：1、服务策略研发：不定期进行专题分析，包括对酒店群、用户群、酒店服务的分析等，研发...</td>\n",
       "      <td>https://www.liepin.com/job/1910030651.shtml</td>\n",
       "      <td>\\n本科及以上 3年以上经验\\n语言不限 年龄不限\\n</td>\n",
       "      <td>大数据分析挖掘/机器学习工程师</td>\n",
       "      <td>23-38万</td>\n",
       "      <td>38.0</td>\n",
       "      <td>23.0</td>\n",
       "    </tr>\n",
       "    <tr>\n",
       "      <th>1</th>\n",
       "      <td>NaN</td>\n",
       "      <td>NaN</td>\n",
       "      <td>NaN</td>\n",
       "      <td>NaN</td>\n",
       "      <td>NaN</td>\n",
       "      <td>学历不限</td>\n",
       "      <td>3年以上经验</td>\n",
       "      <td>\\n               岗位职责：1、分析和挖掘公司业务的优化机会，构建相应的数据...</td>\n",
       "      <td>https://www.liepin.com/a/9664206.shtml</td>\n",
       "      <td>\\n学历不限\\n3年以上经验\\n语言不限\\n23-40岁\\n</td>\n",
       "      <td>数据分析挖掘师</td>\n",
       "      <td>90-120万</td>\n",
       "      <td>120.0</td>\n",
       "      <td>90.0</td>\n",
       "    </tr>\n",
       "    <tr>\n",
       "      <th>2</th>\n",
       "      <td>公司地址：上海市浦东新区博云路2号浦软大厦五楼东区</td>\n",
       "      <td>NaN</td>\n",
       "      <td>https://www.liepin.com/company/7867330/</td>\n",
       "      <td>钦文信息科技</td>\n",
       "      <td>NaN</td>\n",
       "      <td>统招本科</td>\n",
       "      <td>2年以上经验</td>\n",
       "      <td>职位描述1. 对用户行为进行建模，发现用户潜在意图和行为模式;2. 产品内关键算法设计，如推...</td>\n",
       "      <td>https://www.liepin.com/job/199173746.shtml</td>\n",
       "      <td>\\n统招本科 2年以上经验\\n普通话 年龄不限\\n</td>\n",
       "      <td>数据分析工程师</td>\n",
       "      <td>面议</td>\n",
       "      <td>NaN</td>\n",
       "      <td>NaN</td>\n",
       "    </tr>\n",
       "    <tr>\n",
       "      <th>3</th>\n",
       "      <td>公司地址：上海浦东张江高科技园区碧波路690号2号楼201B</td>\n",
       "      <td>NaN</td>\n",
       "      <td>https://www.liepin.com/company/8057761/</td>\n",
       "      <td>侠特科技</td>\n",
       "      <td>NaN</td>\n",
       "      <td>本科及以上</td>\n",
       "      <td>3年以上经验</td>\n",
       "      <td>岗位职责：1、负责对公司所拥有的电商行业消费者大量数据进行建模和数据挖掘工作；2、负责公司E...</td>\n",
       "      <td>https://www.liepin.com/job/1910902659.shtml</td>\n",
       "      <td>\\n本科及以上 3年以上经验\\n语言不限 年龄不限\\n</td>\n",
       "      <td>高级数据分析师</td>\n",
       "      <td>20-26万</td>\n",
       "      <td>26.0</td>\n",
       "      <td>20.0</td>\n",
       "    </tr>\n",
       "    <tr>\n",
       "      <th>4</th>\n",
       "      <td>NaN</td>\n",
       "      <td>NaN</td>\n",
       "      <td>NaN</td>\n",
       "      <td>NaN</td>\n",
       "      <td>NaN</td>\n",
       "      <td>统招本科</td>\n",
       "      <td>3年以上经验</td>\n",
       "      <td>\\n               岗位描述1. 全面了解电商和互联网金融行业数据，通过大数据...</td>\n",
       "      <td>https://www.liepin.com/a/10128572.shtml</td>\n",
       "      <td>\\n统招本科\\n3年以上经验\\n语言不限\\n25-35岁\\n</td>\n",
       "      <td>数据分析/挖掘/建模</td>\n",
       "      <td>60-90万</td>\n",
       "      <td>90.0</td>\n",
       "      <td>60.0</td>\n",
       "    </tr>\n",
       "  </tbody>\n",
       "</table>\n",
       "</div>"
      ],
      "text/plain": [
       "                          address  comp_detail  \\\n",
       "0        公司地址：上海市长宁区金钟路968号凌空SOHO          NaN   \n",
       "1                             NaN          NaN   \n",
       "2       公司地址：上海市浦东新区博云路2号浦软大厦五楼东区          NaN   \n",
       "3  公司地址：上海浦东张江高科技园区碧波路690号2号楼201B          NaN   \n",
       "4                             NaN          NaN   \n",
       "\n",
       "                                   comp_id comp_name comp_size education  \\\n",
       "0   https://www.liepin.com/company/182339/        携程       NaN     本科及以上   \n",
       "1                                      NaN       NaN       NaN      学历不限   \n",
       "2  https://www.liepin.com/company/7867330/    钦文信息科技       NaN      统招本科   \n",
       "3  https://www.liepin.com/company/8057761/      侠特科技       NaN     本科及以上   \n",
       "4                                      NaN       NaN       NaN      统招本科   \n",
       "\n",
       "  experience                                           job_desp  \\\n",
       "0     3年以上经验  职责描述：1、服务策略研发：不定期进行专题分析，包括对酒店群、用户群、酒店服务的分析等，研发...   \n",
       "1     3年以上经验  \\n               岗位职责：1、分析和挖掘公司业务的优化机会，构建相应的数据...   \n",
       "2     2年以上经验  职位描述1. 对用户行为进行建模，发现用户潜在意图和行为模式;2. 产品内关键算法设计，如推...   \n",
       "3     3年以上经验  岗位职责：1、负责对公司所拥有的电商行业消费者大量数据进行建模和数据挖掘工作；2、负责公司E...   \n",
       "4     3年以上经验  \\n               岗位描述1. 全面了解电商和互联网金融行业数据，通过大数据...   \n",
       "\n",
       "                                        job_id  \\\n",
       "0  https://www.liepin.com/job/1910030651.shtml   \n",
       "1       https://www.liepin.com/a/9664206.shtml   \n",
       "2   https://www.liepin.com/job/199173746.shtml   \n",
       "3  https://www.liepin.com/job/1910902659.shtml   \n",
       "4      https://www.liepin.com/a/10128572.shtml   \n",
       "\n",
       "                          job_req        job_title   salary  salary_max  \\\n",
       "0     \\n本科及以上 3年以上经验\\n语言不限 年龄不限\\n  大数据分析挖掘/机器学习工程师   23-38万        38.0   \n",
       "1  \\n学历不限\\n3年以上经验\\n语言不限\\n23-40岁\\n          数据分析挖掘师  90-120万       120.0   \n",
       "2       \\n统招本科 2年以上经验\\n普通话 年龄不限\\n          数据分析工程师       面议         NaN   \n",
       "3     \\n本科及以上 3年以上经验\\n语言不限 年龄不限\\n          高级数据分析师   20-26万        26.0   \n",
       "4  \\n统招本科\\n3年以上经验\\n语言不限\\n25-35岁\\n       数据分析/挖掘/建模   60-90万        90.0   \n",
       "\n",
       "   salary_min  \n",
       "0        23.0  \n",
       "1        90.0  \n",
       "2         NaN  \n",
       "3        20.0  \n",
       "4        60.0  "
      ]
     },
     "execution_count": 9,
     "metadata": {},
     "output_type": "execute_result"
    }
   ],
   "source": [
    "jobs  = pd.concat(data_list);jobs.head(5)"
   ]
  },
  {
   "cell_type": "markdown",
   "metadata": {},
   "source": [
    "## 处理数据\n",
    "\n",
    "按顺序保留如下列，存入新的变量`n_jobs`中：\n",
    "\n",
    "```\n",
    "['job_id', 'job_title','comp_name','salary','salary_min','salary_max','experience','job_desp','comp_id']\n",
    "\n",
    "```"
   ]
  },
  {
   "cell_type": "code",
   "execution_count": 37,
   "metadata": {
    "collapsed": true
   },
   "outputs": [],
   "source": [
    "n_jobs = jobs[['job_id', 'job_title','comp_name','comp_size','address','salary_min','salary_max','experience','education','job_desp']]"
   ]
  },
  {
   "cell_type": "markdown",
   "metadata": {},
   "source": [
    "接下来：\n",
    "- 将`experience`需要的工作年限变为数值型\n",
    "- 新增一列为平均工资，从最小和最大工资计算得出\n",
    "- 分析下工作年限需要的分布\n",
    "- 分析下工作年限跟薪水之间的关系\n",
    "- 分析下工作职责描述中提到最多的技能项"
   ]
  },
  {
   "cell_type": "code",
   "execution_count": 38,
   "metadata": {},
   "outputs": [
    {
     "name": "stderr",
     "output_type": "stream",
     "text": [
      "/Users/fr4nk.yang/anaconda2/lib/python2.7/site-packages/ipykernel_launcher.py:12: SettingWithCopyWarning: \n",
      "A value is trying to be set on a copy of a slice from a DataFrame.\n",
      "Try using .loc[row_indexer,col_indexer] = value instead\n",
      "\n",
      "See the caveats in the documentation: http://pandas.pydata.org/pandas-docs/stable/indexing.html#indexing-view-versus-copy\n",
      "  if sys.path[0] == '':\n"
     ]
    },
    {
     "data": {
      "text/html": [
       "<div>\n",
       "<style>\n",
       "    .dataframe thead tr:only-child th {\n",
       "        text-align: right;\n",
       "    }\n",
       "\n",
       "    .dataframe thead th {\n",
       "        text-align: left;\n",
       "    }\n",
       "\n",
       "    .dataframe tbody tr th {\n",
       "        vertical-align: top;\n",
       "    }\n",
       "</style>\n",
       "<table border=\"1\" class=\"dataframe\">\n",
       "  <thead>\n",
       "    <tr style=\"text-align: right;\">\n",
       "      <th></th>\n",
       "      <th>job_title</th>\n",
       "      <th>comp_name</th>\n",
       "      <th>comp_size</th>\n",
       "      <th>address</th>\n",
       "      <th>salary_min</th>\n",
       "      <th>salary_max</th>\n",
       "      <th>experience</th>\n",
       "      <th>education</th>\n",
       "      <th>job_desp</th>\n",
       "    </tr>\n",
       "    <tr>\n",
       "      <th>job_id</th>\n",
       "      <th></th>\n",
       "      <th></th>\n",
       "      <th></th>\n",
       "      <th></th>\n",
       "      <th></th>\n",
       "      <th></th>\n",
       "      <th></th>\n",
       "      <th></th>\n",
       "      <th></th>\n",
       "    </tr>\n",
       "  </thead>\n",
       "  <tbody>\n",
       "    <tr>\n",
       "      <th>https://www.liepin.com/job/1910030651.shtml</th>\n",
       "      <td>大数据分析挖掘/机器学习工程师</td>\n",
       "      <td>携程</td>\n",
       "      <td>NaN</td>\n",
       "      <td>公司地址：上海市长宁区金钟路968号凌空SOHO</td>\n",
       "      <td>23.0</td>\n",
       "      <td>38.0</td>\n",
       "      <td>3.0</td>\n",
       "      <td>本科及以上</td>\n",
       "      <td>职责描述：1、服务策略研发：不定期进行专题分析，包括对酒店群、用户群、酒店服务的分析等，研发...</td>\n",
       "    </tr>\n",
       "  </tbody>\n",
       "</table>\n",
       "</div>"
      ],
      "text/plain": [
       "                                                   job_title comp_name  \\\n",
       "job_id                                                                   \n",
       "https://www.liepin.com/job/1910030651.shtml  大数据分析挖掘/机器学习工程师        携程   \n",
       "\n",
       "                                            comp_size  \\\n",
       "job_id                                                  \n",
       "https://www.liepin.com/job/1910030651.shtml       NaN   \n",
       "\n",
       "                                                              address  \\\n",
       "job_id                                                                  \n",
       "https://www.liepin.com/job/1910030651.shtml  公司地址：上海市长宁区金钟路968号凌空SOHO   \n",
       "\n",
       "                                             salary_min  salary_max  \\\n",
       "job_id                                                                \n",
       "https://www.liepin.com/job/1910030651.shtml        23.0        38.0   \n",
       "\n",
       "                                             experience education  \\\n",
       "job_id                                                              \n",
       "https://www.liepin.com/job/1910030651.shtml         3.0     本科及以上   \n",
       "\n",
       "                                                                                      job_desp  \n",
       "job_id                                                                                          \n",
       "https://www.liepin.com/job/1910030651.shtml  职责描述：1、服务策略研发：不定期进行专题分析，包括对酒店群、用户群、酒店服务的分析等，研发...  "
      ]
     },
     "execution_count": 38,
     "metadata": {},
     "output_type": "execute_result"
    }
   ],
   "source": [
    "def changeExp(x):\n",
    "    pt_s = '(\\d+)年以上经验'\n",
    "    pt = re.compile(pt_s)\n",
    "    if pt.match(x):\n",
    "        gg = pt.search(x)\n",
    "        return int(gg.group(1))\n",
    "    elif x == '经验不限':\n",
    "        return 0\n",
    "    else:\n",
    "        x = -1\n",
    "        \n",
    "n_jobs['experience'] = n_jobs['experience'].apply(changeExp);\n",
    "n_jobs = n_jobs.set_index('job_id')\n",
    "n_jobs.head(1)"
   ]
  },
  {
   "cell_type": "markdown",
   "metadata": {},
   "source": [
    "#### 计算平均工资"
   ]
  },
  {
   "cell_type": "code",
   "execution_count": 53,
   "metadata": {},
   "outputs": [],
   "source": [
    "n_jobs['salary_avg'] = n_jobs[['salary_min', 'salary_max']].mean(axis=1)\n"
   ]
  },
  {
   "cell_type": "markdown",
   "metadata": {},
   "source": [
    "### 从数据本身来看\n",
    "\n",
    "使用 describe 函数，查看数据的大致情况。\n",
    "\n",
    "首先分析，数据的类型，比如是离散or连续的，数值or字符型等等。\n",
    "\n",
    "#### 数据基本情况"
   ]
  },
  {
   "cell_type": "code",
   "execution_count": 17,
   "metadata": {
    "scrolled": true
   },
   "outputs": [
    {
     "name": "stdout",
     "output_type": "stream",
     "text": [
      "<class 'pandas.core.frame.DataFrame'>\n",
      "Index: 10428 entries, https://www.liepin.com/job/1910030651.shtml to https://www.liepin.com/a/9979176.shtml\n",
      "Data columns (total 10 columns):\n",
      "job_title     10428 non-null object\n",
      "comp_name     3727 non-null object\n",
      "comp_size     1157 non-null object\n",
      "address       3727 non-null object\n",
      "salary_min    9463 non-null float64\n",
      "salary_max    9463 non-null float64\n",
      "experience    7953 non-null float64\n",
      "education     10428 non-null object\n",
      "job_desp      10428 non-null object\n",
      "salary_avg    9463 non-null float64\n",
      "dtypes: float64(4), object(6)\n",
      "memory usage: 896.2+ KB\n"
     ]
    }
   ],
   "source": [
    "n_jobs.info()"
   ]
  },
  {
   "cell_type": "markdown",
   "metadata": {},
   "source": [
    "可以得出一些初步事实：\n",
    "- 数据有 10428 条\n",
    "- 其中非猎头的职位信息有 3727 条, ~35%\n",
    "- 给出具体薪资水平有 9463 条（~90%），其余是面谈\n",
    "- 给出了经验要求有 7953 条（~76%）\n",
    "- 全都给出了工作名称、学历和职责描述"
   ]
  },
  {
   "cell_type": "code",
   "execution_count": 18,
   "metadata": {
    "scrolled": false
   },
   "outputs": [
    {
     "data": {
      "text/html": [
       "<div>\n",
       "<style>\n",
       "    .dataframe thead tr:only-child th {\n",
       "        text-align: right;\n",
       "    }\n",
       "\n",
       "    .dataframe thead th {\n",
       "        text-align: left;\n",
       "    }\n",
       "\n",
       "    .dataframe tbody tr th {\n",
       "        vertical-align: top;\n",
       "    }\n",
       "</style>\n",
       "<table border=\"1\" class=\"dataframe\">\n",
       "  <thead>\n",
       "    <tr style=\"text-align: right;\">\n",
       "      <th></th>\n",
       "      <th>job_title</th>\n",
       "      <th>comp_name</th>\n",
       "      <th>comp_size</th>\n",
       "      <th>address</th>\n",
       "      <th>education</th>\n",
       "      <th>job_desp</th>\n",
       "    </tr>\n",
       "  </thead>\n",
       "  <tbody>\n",
       "    <tr>\n",
       "      <th>count</th>\n",
       "      <td>10428</td>\n",
       "      <td>3727</td>\n",
       "      <td>1157</td>\n",
       "      <td>3727</td>\n",
       "      <td>10428</td>\n",
       "      <td>10428</td>\n",
       "    </tr>\n",
       "    <tr>\n",
       "      <th>unique</th>\n",
       "      <td>3819</td>\n",
       "      <td>849</td>\n",
       "      <td>8</td>\n",
       "      <td>1137</td>\n",
       "      <td>14</td>\n",
       "      <td>6260</td>\n",
       "    </tr>\n",
       "    <tr>\n",
       "      <th>top</th>\n",
       "      <td>算法工程师</td>\n",
       "      <td>美团点评</td>\n",
       "      <td>公司规模：100-499人</td>\n",
       "      <td>公司地址：上海市浦东新区金科路2889号 长泰广场C座 7楼</td>\n",
       "      <td>统招本科</td>\n",
       "      <td>职责描述：利用机器学习/深度学习的技术进行图像处理，语义理解，情感分析等的算法和系统研发；任...</td>\n",
       "    </tr>\n",
       "    <tr>\n",
       "      <th>freq</th>\n",
       "      <td>333</td>\n",
       "      <td>120</td>\n",
       "      <td>496</td>\n",
       "      <td>153</td>\n",
       "      <td>2753</td>\n",
       "      <td>21</td>\n",
       "    </tr>\n",
       "  </tbody>\n",
       "</table>\n",
       "</div>"
      ],
      "text/plain": [
       "       job_title comp_name      comp_size                         address  \\\n",
       "count      10428      3727           1157                            3727   \n",
       "unique      3819       849              8                            1137   \n",
       "top        算法工程师      美团点评  公司规模：100-499人  公司地址：上海市浦东新区金科路2889号 长泰广场C座 7楼   \n",
       "freq         333       120            496                             153   \n",
       "\n",
       "       education                                           job_desp  \n",
       "count      10428                                              10428  \n",
       "unique        14                                               6260  \n",
       "top         统招本科  职责描述：利用机器学习/深度学习的技术进行图像处理，语义理解，情感分析等的算法和系统研发；任...  \n",
       "freq        2753                                                 21  "
      ]
     },
     "execution_count": 18,
     "metadata": {},
     "output_type": "execute_result"
    }
   ],
   "source": [
    "n_jobs.describe(include=['O'])"
   ]
  },
  {
   "cell_type": "markdown",
   "metadata": {},
   "source": [
    "得出一些初步结果：\n",
    "- 算法工程师，也就是说做机器学习的title在公司中大多为算法工程师\n",
    "- 发布工作最多的公司是 美团点评，有120条记录\n",
    "- 其中公司规模，绝大多数为100-499人\n",
    "- 对求职者学历要求，最常见的是统招本科"
   ]
  },
  {
   "cell_type": "code",
   "execution_count": 19,
   "metadata": {},
   "outputs": [
    {
     "data": {
      "text/html": [
       "<div>\n",
       "<style>\n",
       "    .dataframe thead tr:only-child th {\n",
       "        text-align: right;\n",
       "    }\n",
       "\n",
       "    .dataframe thead th {\n",
       "        text-align: left;\n",
       "    }\n",
       "\n",
       "    .dataframe tbody tr th {\n",
       "        vertical-align: top;\n",
       "    }\n",
       "</style>\n",
       "<table border=\"1\" class=\"dataframe\">\n",
       "  <thead>\n",
       "    <tr style=\"text-align: right;\">\n",
       "      <th></th>\n",
       "      <th>salary_min</th>\n",
       "      <th>salary_max</th>\n",
       "      <th>experience</th>\n",
       "      <th>salary_avg</th>\n",
       "    </tr>\n",
       "  </thead>\n",
       "  <tbody>\n",
       "    <tr>\n",
       "      <th>count</th>\n",
       "      <td>9463.000000</td>\n",
       "      <td>9463.000000</td>\n",
       "      <td>7953.000000</td>\n",
       "      <td>9463.000000</td>\n",
       "    </tr>\n",
       "    <tr>\n",
       "      <th>mean</th>\n",
       "      <td>36.317658</td>\n",
       "      <td>58.748283</td>\n",
       "      <td>3.316987</td>\n",
       "      <td>47.532971</td>\n",
       "    </tr>\n",
       "    <tr>\n",
       "      <th>std</th>\n",
       "      <td>25.545433</td>\n",
       "      <td>32.768015</td>\n",
       "      <td>1.840532</td>\n",
       "      <td>28.931213</td>\n",
       "    </tr>\n",
       "    <tr>\n",
       "      <th>min</th>\n",
       "      <td>3.000000</td>\n",
       "      <td>4.000000</td>\n",
       "      <td>0.000000</td>\n",
       "      <td>3.500000</td>\n",
       "    </tr>\n",
       "    <tr>\n",
       "      <th>25%</th>\n",
       "      <td>20.000000</td>\n",
       "      <td>39.000000</td>\n",
       "      <td>2.000000</td>\n",
       "      <td>30.000000</td>\n",
       "    </tr>\n",
       "    <tr>\n",
       "      <th>50%</th>\n",
       "      <td>30.000000</td>\n",
       "      <td>55.000000</td>\n",
       "      <td>3.000000</td>\n",
       "      <td>43.000000</td>\n",
       "    </tr>\n",
       "    <tr>\n",
       "      <th>75%</th>\n",
       "      <td>45.000000</td>\n",
       "      <td>70.000000</td>\n",
       "      <td>5.000000</td>\n",
       "      <td>55.000000</td>\n",
       "    </tr>\n",
       "    <tr>\n",
       "      <th>max</th>\n",
       "      <td>400.000000</td>\n",
       "      <td>460.000000</td>\n",
       "      <td>12.000000</td>\n",
       "      <td>430.000000</td>\n",
       "    </tr>\n",
       "  </tbody>\n",
       "</table>\n",
       "</div>"
      ],
      "text/plain": [
       "        salary_min   salary_max   experience   salary_avg\n",
       "count  9463.000000  9463.000000  7953.000000  9463.000000\n",
       "mean     36.317658    58.748283     3.316987    47.532971\n",
       "std      25.545433    32.768015     1.840532    28.931213\n",
       "min       3.000000     4.000000     0.000000     3.500000\n",
       "25%      20.000000    39.000000     2.000000    30.000000\n",
       "50%      30.000000    55.000000     3.000000    43.000000\n",
       "75%      45.000000    70.000000     5.000000    55.000000\n",
       "max     400.000000   460.000000    12.000000   430.000000"
      ]
     },
     "execution_count": 19,
     "metadata": {},
     "output_type": "execute_result"
    }
   ],
   "source": [
    "n_jobs.describe()"
   ]
  },
  {
   "cell_type": "markdown",
   "metadata": {},
   "source": [
    "得出初步结论：\n",
    "- 对机器学习、数据分析等方向的工作经验，平均要求是3.3年\n",
    "- 薪水范围，最少的有10w, 50%起薪是30w\n",
    "- 起薪范围最大值50%在55w"
   ]
  },
  {
   "cell_type": "markdown",
   "metadata": {},
   "source": [
    "### 画图分析数据\n",
    "\n",
    "#### 工作年限的需求分布"
   ]
  },
  {
   "cell_type": "code",
   "execution_count": 49,
   "metadata": {},
   "outputs": [],
   "source": [
    "n_job_years = n_jobs['experience'].apply(lambda x: int(x) if not math.isnan(x) else -1)\n"
   ]
  },
  {
   "cell_type": "code",
   "execution_count": 52,
   "metadata": {},
   "outputs": [
    {
     "data": {
      "text/plain": [
       "Text(0,0.5,u'Count')"
      ]
     },
     "execution_count": 52,
     "metadata": {},
     "output_type": "execute_result"
    },
    {
     "data": {
      "image/png": "[encoded data removed]",
      "text/plain": [
       "<matplotlib.figure.Figure at 0x1a1ab27410>"
      ]
     },
     "metadata": {},
     "output_type": "display_data"
    }
   ],
   "source": [
    "ax = sns.distplot(n_job_years, norm_hist=False, kde=False)\n",
    "ax.set_xlabel('Work Experience (Years)')\n",
    "ax.set_ylabel(u'Count')"
   ]
  },
  {
   "cell_type": "markdown",
   "metadata": {},
   "source": [
    "#### 公司规模跟薪水的关系"
   ]
  },
  {
   "cell_type": "code",
   "execution_count": 57,
   "metadata": {},
   "outputs": [],
   "source": [
    "comp_size_salary = n_jobs[['comp_size', 'salary_min', 'salary_max']].groupby('comp_size').mean().sort_values(by=['salary_min', 'salary_max'],ascending=True)"
   ]
  },
  {
   "cell_type": "code",
   "execution_count": 59,
   "metadata": {},
   "outputs": [
    {
     "data": {
      "text/html": [
       "<div>\n",
       "<style>\n",
       "    .dataframe thead tr:only-child th {\n",
       "        text-align: right;\n",
       "    }\n",
       "\n",
       "    .dataframe thead th {\n",
       "        text-align: left;\n",
       "    }\n",
       "\n",
       "    .dataframe tbody tr th {\n",
       "        vertical-align: top;\n",
       "    }\n",
       "</style>\n",
       "<table border=\"1\" class=\"dataframe\">\n",
       "  <thead>\n",
       "    <tr style=\"text-align: right;\">\n",
       "      <th></th>\n",
       "      <th>salary_min</th>\n",
       "      <th>salary_max</th>\n",
       "    </tr>\n",
       "    <tr>\n",
       "      <th>comp_size</th>\n",
       "      <th></th>\n",
       "      <th></th>\n",
       "    </tr>\n",
       "  </thead>\n",
       "  <tbody>\n",
       "    <tr>\n",
       "      <th>公司规模：1-49人</th>\n",
       "      <td>21.300000</td>\n",
       "      <td>37.750000</td>\n",
       "    </tr>\n",
       "    <tr>\n",
       "      <th>公司规模：500-999人</th>\n",
       "      <td>22.161616</td>\n",
       "      <td>41.070707</td>\n",
       "    </tr>\n",
       "    <tr>\n",
       "      <th>公司规模：2000-5000人</th>\n",
       "      <td>22.800000</td>\n",
       "      <td>39.066667</td>\n",
       "    </tr>\n",
       "    <tr>\n",
       "      <th>公司规模：1000-2000人</th>\n",
       "      <td>23.560000</td>\n",
       "      <td>41.280000</td>\n",
       "    </tr>\n",
       "    <tr>\n",
       "      <th>公司规模：100-499人</th>\n",
       "      <td>25.364486</td>\n",
       "      <td>43.548287</td>\n",
       "    </tr>\n",
       "    <tr>\n",
       "      <th>公司规模：10000人以上</th>\n",
       "      <td>26.459677</td>\n",
       "      <td>47.830645</td>\n",
       "    </tr>\n",
       "    <tr>\n",
       "      <th>公司规模：50-99人</th>\n",
       "      <td>26.910891</td>\n",
       "      <td>44.792079</td>\n",
       "    </tr>\n",
       "    <tr>\n",
       "      <th>公司规模：5000-10000人</th>\n",
       "      <td>30.200000</td>\n",
       "      <td>50.600000</td>\n",
       "    </tr>\n",
       "  </tbody>\n",
       "</table>\n",
       "</div>"
      ],
      "text/plain": [
       "                  salary_min  salary_max\n",
       "comp_size                               \n",
       "公司规模：1-49人         21.300000   37.750000\n",
       "公司规模：500-999人      22.161616   41.070707\n",
       "公司规模：2000-5000人    22.800000   39.066667\n",
       "公司规模：1000-2000人    23.560000   41.280000\n",
       "公司规模：100-499人      25.364486   43.548287\n",
       "公司规模：10000人以上      26.459677   47.830645\n",
       "公司规模：50-99人        26.910891   44.792079\n",
       "公司规模：5000-10000人   30.200000   50.600000"
      ]
     },
     "execution_count": 59,
     "metadata": {},
     "output_type": "execute_result"
    }
   ],
   "source": [
    "comp_size_salary"
   ]
  },
  {
   "cell_type": "code",
   "execution_count": 74,
   "metadata": {},
   "outputs": [
    {
     "ename": "KeyError",
     "evalue": "'the label [True] is not in the [index]'",
     "output_type": "error",
     "traceback": [
      "\u001b[0;31m---------------------------------------------------------------------------\u001b[0m",
      "\u001b[0;31mKeyError\u001b[0m                                  Traceback (most recent call last)",
      "\u001b[0;32m<ipython-input-74-cad22e649fec>\u001b[0m in \u001b[0;36m<module>\u001b[0;34m()\u001b[0m\n\u001b[1;32m      5\u001b[0m         \u001b[0;32mreturn\u001b[0m \u001b[0mFalse\u001b[0m\u001b[0;34m\u001b[0m\u001b[0m\n\u001b[1;32m      6\u001b[0m \u001b[0;34m\u001b[0m\u001b[0m\n\u001b[0;32m----> 7\u001b[0;31m \u001b[0mss\u001b[0m \u001b[0;34m=\u001b[0m \u001b[0mn_jobs\u001b[0m\u001b[0;34m[\u001b[0m\u001b[0;34m[\u001b[0m\u001b[0;34m'comp_size'\u001b[0m\u001b[0;34m,\u001b[0m \u001b[0;34m'salary_min'\u001b[0m\u001b[0;34m,\u001b[0m \u001b[0;34m'salary_max'\u001b[0m\u001b[0;34m]\u001b[0m\u001b[0;34m]\u001b[0m\u001b[0;34m.\u001b[0m\u001b[0mloc\u001b[0m\u001b[0;34m[\u001b[0m\u001b[0;32mlambda\u001b[0m \u001b[0mdf\u001b[0m\u001b[0;34m:\u001b[0m \u001b[0mTrue\u001b[0m \u001b[0;32mif\u001b[0m \u001b[0mdf\u001b[0m\u001b[0;34m[\u001b[0m\u001b[0;34m'comp_size'\u001b[0m\u001b[0;34m]\u001b[0m \u001b[0;32mis\u001b[0m \u001b[0;32mnot\u001b[0m \u001b[0mNone\u001b[0m \u001b[0;32mand\u001b[0m \u001b[0mdf\u001b[0m\u001b[0;34m[\u001b[0m\u001b[0;34m'salary_min'\u001b[0m\u001b[0;34m]\u001b[0m \u001b[0;32mis\u001b[0m \u001b[0;32mnot\u001b[0m \u001b[0mNone\u001b[0m \u001b[0;32mand\u001b[0m \u001b[0mdf\u001b[0m\u001b[0;34m[\u001b[0m\u001b[0;34m'salary_max'\u001b[0m\u001b[0;34m]\u001b[0m \u001b[0;32mis\u001b[0m \u001b[0;32mnot\u001b[0m \u001b[0mNone\u001b[0m \u001b[0;32melse\u001b[0m \u001b[0mFalse\u001b[0m\u001b[0;34m,\u001b[0m\u001b[0;34m:\u001b[0m\u001b[0;34m]\u001b[0m\u001b[0;34m;\u001b[0m \u001b[0mss\u001b[0m\u001b[0;34m.\u001b[0m\u001b[0mhead\u001b[0m\u001b[0;34m(\u001b[0m\u001b[0;36m5\u001b[0m\u001b[0;34m)\u001b[0m\u001b[0;34m\u001b[0m\u001b[0m\n\u001b[0m\u001b[1;32m      8\u001b[0m \u001b[0;31m# gg = sns.FacetGrid(n_jobs, row=\"comp_size\")\u001b[0m\u001b[0;34m\u001b[0m\u001b[0;34m\u001b[0m\u001b[0m\n\u001b[1;32m      9\u001b[0m \u001b[0;31m# gg = gg.map(plt.hist, ['salary_min', 'salary_max'])\u001b[0m\u001b[0;34m\u001b[0m\u001b[0;34m\u001b[0m\u001b[0m\n",
      "\u001b[0;32m/Users/fr4nk.yang/anaconda2/lib/python2.7/site-packages/pandas/core/indexing.pyc\u001b[0m in \u001b[0;36m__getitem__\u001b[0;34m(self, key)\u001b[0m\n\u001b[1;32m   1323\u001b[0m             \u001b[0;32mexcept\u001b[0m \u001b[0;34m(\u001b[0m\u001b[0mKeyError\u001b[0m\u001b[0;34m,\u001b[0m \u001b[0mIndexError\u001b[0m\u001b[0;34m)\u001b[0m\u001b[0;34m:\u001b[0m\u001b[0;34m\u001b[0m\u001b[0m\n\u001b[1;32m   1324\u001b[0m                 \u001b[0;32mpass\u001b[0m\u001b[0;34m\u001b[0m\u001b[0m\n\u001b[0;32m-> 1325\u001b[0;31m             \u001b[0;32mreturn\u001b[0m \u001b[0mself\u001b[0m\u001b[0;34m.\u001b[0m\u001b[0m_getitem_tuple\u001b[0m\u001b[0;34m(\u001b[0m\u001b[0mkey\u001b[0m\u001b[0;34m)\u001b[0m\u001b[0;34m\u001b[0m\u001b[0m\n\u001b[0m\u001b[1;32m   1326\u001b[0m         \u001b[0;32melse\u001b[0m\u001b[0;34m:\u001b[0m\u001b[0;34m\u001b[0m\u001b[0m\n\u001b[1;32m   1327\u001b[0m             \u001b[0mkey\u001b[0m \u001b[0;34m=\u001b[0m \u001b[0mcom\u001b[0m\u001b[0;34m.\u001b[0m\u001b[0m_apply_if_callable\u001b[0m\u001b[0;34m(\u001b[0m\u001b[0mkey\u001b[0m\u001b[0;34m,\u001b[0m \u001b[0mself\u001b[0m\u001b[0;34m.\u001b[0m\u001b[0mobj\u001b[0m\u001b[0;34m)\u001b[0m\u001b[0;34m\u001b[0m\u001b[0m\n",
      "\u001b[0;32m/Users/fr4nk.yang/anaconda2/lib/python2.7/site-packages/pandas/core/indexing.pyc\u001b[0m in \u001b[0;36m_getitem_tuple\u001b[0;34m(self, tup)\u001b[0m\n\u001b[1;32m    834\u001b[0m     \u001b[0;32mdef\u001b[0m \u001b[0m_getitem_tuple\u001b[0m\u001b[0;34m(\u001b[0m\u001b[0mself\u001b[0m\u001b[0;34m,\u001b[0m \u001b[0mtup\u001b[0m\u001b[0;34m)\u001b[0m\u001b[0;34m:\u001b[0m\u001b[0;34m\u001b[0m\u001b[0m\n\u001b[1;32m    835\u001b[0m         \u001b[0;32mtry\u001b[0m\u001b[0;34m:\u001b[0m\u001b[0;34m\u001b[0m\u001b[0m\n\u001b[0;32m--> 836\u001b[0;31m             \u001b[0;32mreturn\u001b[0m \u001b[0mself\u001b[0m\u001b[0;34m.\u001b[0m\u001b[0m_getitem_lowerdim\u001b[0m\u001b[0;34m(\u001b[0m\u001b[0mtup\u001b[0m\u001b[0;34m)\u001b[0m\u001b[0;34m\u001b[0m\u001b[0m\n\u001b[0m\u001b[1;32m    837\u001b[0m         \u001b[0;32mexcept\u001b[0m \u001b[0mIndexingError\u001b[0m\u001b[0;34m:\u001b[0m\u001b[0;34m\u001b[0m\u001b[0m\n\u001b[1;32m    838\u001b[0m             \u001b[0;32mpass\u001b[0m\u001b[0;34m\u001b[0m\u001b[0m\n",
      "\u001b[0;32m/Users/fr4nk.yang/anaconda2/lib/python2.7/site-packages/pandas/core/indexing.pyc\u001b[0m in \u001b[0;36m_getitem_lowerdim\u001b[0;34m(self, tup)\u001b[0m\n\u001b[1;32m    965\u001b[0m         \u001b[0;32mfor\u001b[0m \u001b[0mi\u001b[0m\u001b[0;34m,\u001b[0m \u001b[0mkey\u001b[0m \u001b[0;32min\u001b[0m \u001b[0menumerate\u001b[0m\u001b[0;34m(\u001b[0m\u001b[0mtup\u001b[0m\u001b[0;34m)\u001b[0m\u001b[0;34m:\u001b[0m\u001b[0;34m\u001b[0m\u001b[0m\n\u001b[1;32m    966\u001b[0m             \u001b[0;32mif\u001b[0m \u001b[0mis_label_like\u001b[0m\u001b[0;34m(\u001b[0m\u001b[0mkey\u001b[0m\u001b[0;34m)\u001b[0m \u001b[0;32mor\u001b[0m \u001b[0misinstance\u001b[0m\u001b[0;34m(\u001b[0m\u001b[0mkey\u001b[0m\u001b[0;34m,\u001b[0m \u001b[0mtuple\u001b[0m\u001b[0;34m)\u001b[0m\u001b[0;34m:\u001b[0m\u001b[0;34m\u001b[0m\u001b[0m\n\u001b[0;32m--> 967\u001b[0;31m                 \u001b[0msection\u001b[0m \u001b[0;34m=\u001b[0m \u001b[0mself\u001b[0m\u001b[0;34m.\u001b[0m\u001b[0m_getitem_axis\u001b[0m\u001b[0;34m(\u001b[0m\u001b[0mkey\u001b[0m\u001b[0;34m,\u001b[0m \u001b[0maxis\u001b[0m\u001b[0;34m=\u001b[0m\u001b[0mi\u001b[0m\u001b[0;34m)\u001b[0m\u001b[0;34m\u001b[0m\u001b[0m\n\u001b[0m\u001b[1;32m    968\u001b[0m \u001b[0;34m\u001b[0m\u001b[0m\n\u001b[1;32m    969\u001b[0m                 \u001b[0;31m# we have yielded a scalar ?\u001b[0m\u001b[0;34m\u001b[0m\u001b[0;34m\u001b[0m\u001b[0m\n",
      "\u001b[0;32m/Users/fr4nk.yang/anaconda2/lib/python2.7/site-packages/pandas/core/indexing.pyc\u001b[0m in \u001b[0;36m_getitem_axis\u001b[0;34m(self, key, axis)\u001b[0m\n\u001b[1;32m   1549\u001b[0m \u001b[0;34m\u001b[0m\u001b[0m\n\u001b[1;32m   1550\u001b[0m         \u001b[0;31m# fall thru to straight lookup\u001b[0m\u001b[0;34m\u001b[0m\u001b[0;34m\u001b[0m\u001b[0m\n\u001b[0;32m-> 1551\u001b[0;31m         \u001b[0mself\u001b[0m\u001b[0;34m.\u001b[0m\u001b[0m_has_valid_type\u001b[0m\u001b[0;34m(\u001b[0m\u001b[0mkey\u001b[0m\u001b[0;34m,\u001b[0m \u001b[0maxis\u001b[0m\u001b[0;34m)\u001b[0m\u001b[0;34m\u001b[0m\u001b[0m\n\u001b[0m\u001b[1;32m   1552\u001b[0m         \u001b[0;32mreturn\u001b[0m \u001b[0mself\u001b[0m\u001b[0;34m.\u001b[0m\u001b[0m_get_label\u001b[0m\u001b[0;34m(\u001b[0m\u001b[0mkey\u001b[0m\u001b[0;34m,\u001b[0m \u001b[0maxis\u001b[0m\u001b[0;34m=\u001b[0m\u001b[0maxis\u001b[0m\u001b[0;34m)\u001b[0m\u001b[0;34m\u001b[0m\u001b[0m\n\u001b[1;32m   1553\u001b[0m \u001b[0;34m\u001b[0m\u001b[0m\n",
      "\u001b[0;32m/Users/fr4nk.yang/anaconda2/lib/python2.7/site-packages/pandas/core/indexing.pyc\u001b[0m in \u001b[0;36m_has_valid_type\u001b[0;34m(self, key, axis)\u001b[0m\n\u001b[1;32m   1440\u001b[0m                 \u001b[0;32mraise\u001b[0m\u001b[0;34m\u001b[0m\u001b[0m\n\u001b[1;32m   1441\u001b[0m             \u001b[0;32mexcept\u001b[0m\u001b[0;34m:\u001b[0m\u001b[0;34m\u001b[0m\u001b[0m\n\u001b[0;32m-> 1442\u001b[0;31m                 \u001b[0merror\u001b[0m\u001b[0;34m(\u001b[0m\u001b[0;34m)\u001b[0m\u001b[0;34m\u001b[0m\u001b[0m\n\u001b[0m\u001b[1;32m   1443\u001b[0m \u001b[0;34m\u001b[0m\u001b[0m\n\u001b[1;32m   1444\u001b[0m         \u001b[0;32mreturn\u001b[0m \u001b[0mTrue\u001b[0m\u001b[0;34m\u001b[0m\u001b[0m\n",
      "\u001b[0;32m/Users/fr4nk.yang/anaconda2/lib/python2.7/site-packages/pandas/core/indexing.pyc\u001b[0m in \u001b[0;36merror\u001b[0;34m()\u001b[0m\n\u001b[1;32m   1427\u001b[0m                                     \"key\")\n\u001b[1;32m   1428\u001b[0m                 raise KeyError(\"the label [%s] is not in the [%s]\" %\n\u001b[0;32m-> 1429\u001b[0;31m                                (key, self.obj._get_axis_name(axis)))\n\u001b[0m\u001b[1;32m   1430\u001b[0m \u001b[0;34m\u001b[0m\u001b[0m\n\u001b[1;32m   1431\u001b[0m             \u001b[0;32mtry\u001b[0m\u001b[0;34m:\u001b[0m\u001b[0;34m\u001b[0m\u001b[0m\n",
      "\u001b[0;31mKeyError\u001b[0m: 'the label [True] is not in the [index]'"
     ]
    }
   ],
   "source": [
    "def filter_nan(df):\n",
    "    if df['comp_size'] is not None and df['salary_min'] is not None and df['salary_max'] is not None:\n",
    "        return True\n",
    "    else:\n",
    "        return False\n",
    "    \n",
    "ss = n_jobs[['comp_size', 'salary_min', 'salary_max']].loc[filter_nan,:]; ss.head(5)\n",
    "# gg = sns.FacetGrid(n_jobs, row=\"comp_size\")\n",
    "# gg = gg.map(plt.hist, ['salary_min', 'salary_max'])"
   ]
  },
  {
   "cell_type": "markdown",
   "metadata": {
    "collapsed": true
   },
   "source": [
    "工作年限跟薪水的关系"
   ]
  },
  {
   "cell_type": "code",
   "execution_count": 33,
   "metadata": {
    "collapsed": true
   },
   "outputs": [],
   "source": [
    "salary_exp = n_jobs.groupby('experience').mean().reset_index()"
   ]
  },
  {
   "cell_type": "code",
   "execution_count": 34,
   "metadata": {
    "scrolled": true
   },
   "outputs": [
    {
     "data": {
      "image/png": "[encoded data removed]",
      "text/plain": [
       "<matplotlib.figure.Figure at 0x1a14d9e6d0>"
      ]
     },
     "metadata": {},
     "output_type": "display_data"
    }
   ],
   "source": [
    "ax = salary_exp.plot( kind='scatter',x='experience',   y='salary_min', color='b', figsize=(8,5) )\n",
    "salary_exp.plot(kind='scatter',x='experience',  y='salary_max', color='r', ax = ax)\n",
    "\n",
    "plt.show()\n"
   ]
  },
  {
   "cell_type": "code",
   "execution_count": null,
   "metadata": {
    "collapsed": true
   },
   "outputs": [],
   "source": []
  }
 ],
 "metadata": {
  "kernelspec": {
   "display_name": "Python 2",
   "language": "python",
   "name": "python2"
  },
  "language_info": {
   "codemirror_mode": {
    "name": "ipython",
    "version": 2
   },
   "file_extension": ".py",
   "mimetype": "text/x-python",
   "name": "python",
   "nbconvert_exporter": "python",
   "pygments_lexer": "ipython2",
   "version": "2.7.14"
  }
 },
 "nbformat": 4,
 "nbformat_minor": 2
}
